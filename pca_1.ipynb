{
 "cells": [
  {
   "cell_type": "code",
   "execution_count": 8,
   "metadata": {},
   "outputs": [],
   "source": [
    "import numpy as np\n",
    "import matplotlib.pyplot as plt\n",
    "%matplotlib inline"
   ]
  },
  {
   "cell_type": "markdown",
   "metadata": {},
   "source": [
    "### Use a class to contain data"
   ]
  },
  {
   "cell_type": "markdown",
   "metadata": {},
   "source": [
    "### Vectorize players' data\n",
    "numpy의 array를 이용하여 X=n*m 행렬로 표현"
   ]
  },
  {
   "cell_type": "code",
   "execution_count": 153,
   "metadata": {},
   "outputs": [],
   "source": [
    "# 예시 벡터\n",
    "X=[[1,5,10,15],[4,8,12,16],[7,19,20,60],[2,6,5,1]]"
   ]
  },
  {
   "cell_type": "code",
   "execution_count": 154,
   "metadata": {},
   "outputs": [],
   "source": [
    "X_std= (X-np.mean(X, axis=0))/ np.std(X, axis=0)"
   ]
  },
  {
   "cell_type": "code",
   "execution_count": 155,
   "metadata": {},
   "outputs": [
    {
     "data": {
      "text/plain": [
       "array([[-1.09108945, -0.80498447, -0.32392137, -0.36085126],\n",
       "       [ 0.21821789, -0.26832816,  0.04627448, -0.31574485],\n",
       "       [ 1.52752523,  1.69941166,  1.52705788,  1.66893708],\n",
       "       [-0.65465367, -0.62609903, -1.249411  , -0.99234096]])"
      ]
     },
     "execution_count": 155,
     "metadata": {},
     "output_type": "execute_result"
    }
   ],
   "source": [
    "\"from sklearn.preprocessing import StandardScaler \\\n",
    "X_std = StandardScaler().fit_transform(X)과 동일\"\n",
    "#Standardizing data\n",
    "X_std "
   ]
  },
  {
   "cell_type": "code",
   "execution_count": 156,
   "metadata": {},
   "outputs": [],
   "source": [
    "mean_vec= np.mean(X_std, axis=0)\n",
    "cov_mat=(X_std-mean_vec).T.dot((X_std-mean_vec))/(X_std.shape[0]-1)"
   ]
  },
  {
   "cell_type": "code",
   "execution_count": 157,
   "metadata": {
    "scrolled": true
   },
   "outputs": [
    {
     "data": {
      "text/plain": [
       "array([[1.33333333, 1.2751761 , 1.17135868, 1.17460099],\n",
       "       [1.2751761 , 1.33333333, 1.20856331, 1.27757258],\n",
       "       [1.17135868, 1.20856331, 1.33333333, 1.29689391],\n",
       "       [1.17460099, 1.27757258, 1.29689391, 1.33333333]])"
      ]
     },
     "execution_count": 157,
     "metadata": {},
     "output_type": "execute_result"
    }
   ],
   "source": [
    "cov_mat"
   ]
  },
  {
   "cell_type": "markdown",
   "metadata": {},
   "source": [
    "### Find eigenvector"
   ]
  },
  {
   "cell_type": "code",
   "execution_count": 158,
   "metadata": {},
   "outputs": [],
   "source": [
    "#Eigendecomposition of covariance matrix\n",
    "cov_mat=np.cov(X_std.T)\n",
    "eig_vals, eig_vectors = np.linalg.eig(cov_mat)"
   ]
  },
  {
   "cell_type": "code",
   "execution_count": 159,
   "metadata": {},
   "outputs": [
    {
     "data": {
      "text/plain": [
       "array([ 5.03606949e+00,  2.19763511e-01,  7.75003376e-02, -8.24547807e-17])"
      ]
     },
     "execution_count": 159,
     "metadata": {},
     "output_type": "execute_result"
    }
   ],
   "source": [
    "eig_vals"
   ]
  },
  {
   "cell_type": "code",
   "execution_count": 160,
   "metadata": {
    "scrolled": true
   },
   "outputs": [
    {
     "data": {
      "text/plain": [
       "array([[ 0.49172592,  0.67560164,  0.44477785,  0.32239836],\n",
       "       [ 0.50588574,  0.28661499, -0.58416983, -0.56628356],\n",
       "       [ 0.49747723, -0.53648776,  0.55342345, -0.39801982],\n",
       "       [ 0.5047788 , -0.41664752, -0.39324389,  0.6457263 ]])"
      ]
     },
     "execution_count": 160,
     "metadata": {},
     "output_type": "execute_result"
    }
   ],
   "source": [
    "eig_vectors"
   ]
  },
  {
   "cell_type": "code",
   "execution_count": 161,
   "metadata": {},
   "outputs": [],
   "source": [
    "#Sort the eigenvalues descending\n",
    "idx= np.argsort(eig_vals)[::-1]"
   ]
  },
  {
   "cell_type": "code",
   "execution_count": 162,
   "metadata": {},
   "outputs": [],
   "source": [
    "eig_vals=eig_vals[idx]\n",
    "eig_vectors=eig_vectors[:,idx]"
   ]
  },
  {
   "cell_type": "code",
   "execution_count": 163,
   "metadata": {
    "scrolled": false
   },
   "outputs": [
    {
     "data": {
      "text/plain": [
       "array([ 5.03606949e+00,  2.19763511e-01,  7.75003376e-02, -8.24547807e-17])"
      ]
     },
     "execution_count": 163,
     "metadata": {},
     "output_type": "execute_result"
    }
   ],
   "source": [
    "eig_vals"
   ]
  },
  {
   "cell_type": "markdown",
   "metadata": {},
   "source": [
    "### PCA projection to k-dimension"
   ]
  },
  {
   "cell_type": "code",
   "execution_count": 147,
   "metadata": {},
   "outputs": [],
   "source": [
    "# k차원으로 pca = np.dot(X, w[:,:k])\n",
    "a3= np.dot(X_std, eig_vectors[:,:3])\n",
    "a2= np.dot(X_std, eig_vectors[:,:2])\n",
    "a1= np.dot(X_std, eig_vectors[:,:1])"
   ]
  },
  {
   "cell_type": "code",
   "execution_count": 148,
   "metadata": {},
   "outputs": [
    {
     "data": {
      "text/plain": [
       "array([[-1.28704071],\n",
       "       [-0.1648008 ],\n",
       "       [ 3.21295247],\n",
       "       [-1.76111096]])"
      ]
     },
     "execution_count": 148,
     "metadata": {},
     "output_type": "execute_result"
    }
   ],
   "source": [
    "a1"
   ]
  },
  {
   "cell_type": "code",
   "execution_count": 149,
   "metadata": {},
   "outputs": [
    {
     "data": {
      "text/plain": [
       "array([[-1.28704071e+00,  2.77555756e-17],\n",
       "       [-1.64800801e-01,  8.81239526e-16],\n",
       "       [ 3.21295247e+00, -6.93889390e-17],\n",
       "       [-1.76111096e+00, -9.99200722e-16]])"
      ]
     },
     "execution_count": 149,
     "metadata": {},
     "output_type": "execute_result"
    }
   ],
   "source": [
    "a2"
   ]
  },
  {
   "cell_type": "code",
   "execution_count": 150,
   "metadata": {
    "scrolled": false
   },
   "outputs": [
    {
     "data": {
      "text/plain": [
       "array([[-1.28704071e+00,  2.77555756e-17, -5.24079064e-02],\n",
       "       [-1.64800801e-01,  8.81239526e-16,  4.03581815e-01],\n",
       "       [ 3.21295247e+00, -6.93889390e-17, -1.24525296e-01],\n",
       "       [-1.76111096e+00, -9.99200722e-16, -2.26648612e-01]])"
      ]
     },
     "execution_count": 150,
     "metadata": {},
     "output_type": "execute_result"
    }
   ],
   "source": [
    "a3"
   ]
  },
  {
   "cell_type": "markdown",
   "metadata": {},
   "source": [
    "### Visualization"
   ]
  },
  {
   "cell_type": "code",
   "execution_count": null,
   "metadata": {},
   "outputs": [],
   "source": [
    "fig=plt.figure(figsize=(5,5))\n",
    "axis = fig.add_subplot(111)\n",
    "axis.set_title('2 component PCA')\n",
    "axis.grid(True)\n",
    "\n",
    "plt.scatter(a2[:,0], a2[:, 1])\n",
    "plt.show()"
   ]
  }
 ],
 "metadata": {
  "kernelspec": {
   "display_name": "Python 3",
   "language": "python",
   "name": "python3"
  },
  "language_info": {
   "codemirror_mode": {
    "name": "ipython",
    "version": 3
   },
   "file_extension": ".py",
   "mimetype": "text/x-python",
   "name": "python",
   "nbconvert_exporter": "python",
   "pygments_lexer": "ipython3",
   "version": "3.7.6"
  }
 },
 "nbformat": 4,
 "nbformat_minor": 4
}
